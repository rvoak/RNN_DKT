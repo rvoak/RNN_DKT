{
 "cells": [
  {
   "cell_type": "code",
   "execution_count": 1,
   "metadata": {
    "collapsed": true
   },
   "outputs": [],
   "source": [
    "import pandas as pd\n",
    "import numpy as np\n",
    "import json\n",
    "\n",
    "filename = 'skill_builder_data_corrected.csv'\n",
    "df = pd.read_csv(filename, encoding='ISO-8859-1', low_memory=False)\n",
    "df = df[(df['original'] == 1) & (df['attempt_count'] == 1) & ~(df['skill_name'].isnull())]"
   ]
  },
  {
   "cell_type": "code",
   "execution_count": 7,
   "metadata": {},
   "outputs": [],
   "source": [
    "response_df = pd.read_csv('correct.tsv', sep='\\t').drop('Unnamed: 0', axis=1)\n",
    "skill_df = pd.read_csv('skill.tsv', sep='\\t').drop('Unnamed: 0', axis=1)\n",
    "assistment_df = pd.read_csv('assistment_id.tsv', sep='\\t').drop('Unnamed: 0', axis=1)\n",
    "skill_dict = {}\n",
    "with open('skill_dict.json', 'r', encoding='utf-8') as f:\n",
    "    loaded = json.load(f)\n",
    "    for k, v in loaded.items():\n",
    "        skill_dict[k] = int(v)\n",
    "\n",
    "skill_num = len(skill_dict) + 1 # including 0\n",
    "\n",
    "def one_hot(skill_matrix, vocab_size):\n",
    "    '''\n",
    "    params:\n",
    "        skill_matrix: 2-D matrix (student, skills)\n",
    "        vocal_size: size of the vocabulary\n",
    "    returns:\n",
    "        a ndarray with a shape like (student, sequence_len, vocab_size)\n",
    "    '''\n",
    "    seq_len = skill_matrix.shape[1]\n",
    "    result = np.zeros((skill_matrix.shape[0], seq_len, vocab_size))\n",
    "    for i in range(skill_matrix.shape[0]):\n",
    "        result[i, np.arange(seq_len), skill_matrix[i]] = 1.\n",
    "    return result\n",
    "\n",
    "def dkt_one_hot(skill_matrix, response_matrix, vocab_size):\n",
    "    seq_len = skill_matrix.shape[1]\n",
    "    skill_response_array = np.zeros((skill_matrix.shape[0], seq_len, 2 * vocab_size))\n",
    "    for i in range(skill_matrix.shape[0]):\n",
    "        skill_response_array[i, np.arange(seq_len), 2 * skill_matrix[i] + response_matrix[i]] = 1.\n",
    "    return skill_response_array\n",
    "\n",
    "def preprocess(skill_df, response_df, skill_num):\n",
    "    skill_matrix = skill_df.iloc[:, 1:].values\n",
    "    response_array = response_df.iloc[:, 1:].values\n",
    "    skill_array = one_hot(skill_matrix, skill_num)\n",
    "    skill_response_array = dkt_one_hot(skill_matrix, response_array, skill_num)\n",
    "    return skill_array, response_array, skill_response_array\n",
    "    \n",
    "\n",
    "skill_array, response_array, skill_response_array = preprocess(skill_df, response_df, skill_num)"
   ]
  },
  {
   "cell_type": "code",
   "execution_count": 8,
   "metadata": {},
   "outputs": [
    {
     "name": "stdout",
     "output_type": "stream",
     "text": [
      "skill2skill\n",
      "_________________________________________________________________\n",
      "Layer (type)                 Output Shape              Param #   \n",
      "=================================================================\n",
      "input skills (InputLayer)    (None, 99, 111)           0         \n",
      "_________________________________________________________________\n",
      "lstm layer (LSTM)            (None, 99, 64)            45056     \n",
      "_________________________________________________________________\n",
      "probability (TimeDistributed (None, 99, 111)           7215      \n",
      "=================================================================\n",
      "Total params: 52,271\n",
      "Trainable params: 52,271\n",
      "Non-trainable params: 0\n",
      "_________________________________________________________________\n",
      "dkt\n",
      "____________________________________________________________________________________________________\n",
      "Layer (type)                     Output Shape          Param #     Connected to                     \n",
      "====================================================================================================\n",
      "input skills (InputLayer)        (None, 99, 222)       0                                            \n",
      "____________________________________________________________________________________________________\n",
      "lstm layer (LSTM)                (None, 99, 64)        73472                                        \n",
      "____________________________________________________________________________________________________\n",
      "probability for each (TimeDistri (None, 99, 111)       7215                                         \n",
      "____________________________________________________________________________________________________\n",
      "next_skill_tested (InputLayer)   (None, 99, 111)       0                                            \n",
      "____________________________________________________________________________________________________\n",
      "multiply (Multiply)              (None, 99, 111)       0                                            \n",
      "____________________________________________________________________________________________________\n",
      "reduce dim (Lambda)              (None, 99, 1)         0                                            \n",
      "====================================================================================================\n",
      "Total params: 80,687\n",
      "Trainable params: 80,687\n",
      "Non-trainable params: 0\n",
      "____________________________________________________________________________________________________\n"
     ]
    }
   ],
   "source": [
    "import keras\n",
    "from keras.layers import Input, Dense, LSTM, TimeDistributed, Lambda, multiply\n",
    "from keras.models import Model\n",
    "from keras.optimizers import RMSprop, Adam\n",
    "from keras.preprocessing.sequence import pad_sequences\n",
    "from keras import backend as K\n",
    "\n",
    "def build_skill2skill_model(input_shape, lstm_dim=32, dropout=0.0):\n",
    "    input = Input(shape=input_shape, name='input skills')\n",
    "    lstm = LSTM(lstm_dim, \n",
    "                return_sequences=True, \n",
    "                dropout=dropout,\n",
    "                name='lstm layer')(input)\n",
    "    output = TimeDistributed(Dense(input_shape[-1], activation='softmax'), name='probability')(lstm)\n",
    "    model = Model(inputs=[input], outputs=[output])\n",
    "    adam = Adam(lr=0.001, beta_1=0.9, beta_2=0.999, epsilon=1e-07, decay=0.0)\n",
    "    model.compile(optimizer=adam, loss='categorical_crossentropy', metrics=['accuracy'])\n",
    "    model.summary()\n",
    "    return model\n",
    "\n",
    "def reduce_dim(x):\n",
    "    x = K.max(x, axis=-1, keepdims=True)\n",
    "    return x\n",
    "\n",
    "def build_dkt_model(input_shape, lstm_dim=32, dropout=0.0):\n",
    "    input_skills = Input(shape=input_shape, name='input skills')\n",
    "    lstm = LSTM(lstm_dim, \n",
    "                return_sequences=True, \n",
    "                dropout=dropout,\n",
    "                name='lstm layer')(input_skills)\n",
    "    dense = TimeDistributed(Dense(int(input_shape[-1]/2), activation='sigmoid'), name='probability for each')(lstm)\n",
    "    \n",
    "    skill_next = Input(shape=(input_shape[0], int(input_shape[1]/2)), name='next_skill_tested')\n",
    "    merged = multiply([dense, skill_next], name='multiply')\n",
    "    reduced = Lambda(reduce_dim, output_shape=(input_shape[0], 1), name='reduce dim')(merged)\n",
    "    \n",
    "    model = Model(inputs=[input_skills, skill_next], outputs=[reduced])\n",
    "    adam = Adam(lr=0.001, beta_1=0.9, beta_2=0.999, epsilon=1e-07, decay=0.0)\n",
    "    model.compile(optimizer=adam, loss='binary_crossentropy', metrics=['accuracy'])\n",
    "    model.summary()\n",
    "    return model\n",
    "\n",
    "print('skill2skill')\n",
    "skill2skill_model = build_skill2skill_model((99, skill_num), lstm_dim=64)\n",
    "\n",
    "print('dkt')\n",
    "dkt_model = build_dkt_model((99, 2 * skill_num), lstm_dim=64)\n",
    "    "
   ]
  },
  {
   "cell_type": "code",
   "execution_count": 4,
   "metadata": {},
   "outputs": [
    {
     "name": "stdout",
     "output_type": "stream",
     "text": [
      "Train on 467 samples, validate on 117 samples\n",
      "Epoch 1/20\n",
      "467/467 [==============================] - 1s - loss: 4.6351 - acc: 0.2175 - val_loss: 4.5862 - val_acc: 0.3225\n",
      "Epoch 2/20\n",
      "467/467 [==============================] - 1s - loss: 4.3158 - acc: 0.3011 - val_loss: 4.4337 - val_acc: 0.0623\n",
      "Epoch 3/20\n",
      "467/467 [==============================] - 1s - loss: 3.6613 - acc: 0.1861 - val_loss: 4.1115 - val_acc: 0.1166\n",
      "Epoch 4/20\n",
      "467/467 [==============================] - 1s - loss: 3.0991 - acc: 0.2991 - val_loss: 3.8212 - val_acc: 0.2088\n",
      "Epoch 5/20\n",
      "467/467 [==============================] - 1s - loss: 2.6994 - acc: 0.3788 - val_loss: 3.5375 - val_acc: 0.2843\n",
      "Epoch 6/20\n",
      "467/467 [==============================] - 1s - loss: 2.3811 - acc: 0.4660 - val_loss: 3.2631 - val_acc: 0.3937\n",
      "Epoch 7/20\n",
      "467/467 [==============================] - 1s - loss: 2.1433 - acc: 0.5233 - val_loss: 3.0224 - val_acc: 0.4066\n",
      "Epoch 8/20\n",
      "467/467 [==============================] - 1s - loss: 1.9272 - acc: 0.5712 - val_loss: 2.7951 - val_acc: 0.4266\n",
      "Epoch 9/20\n",
      "467/467 [==============================] - 1s - loss: 1.7474 - acc: 0.6114 - val_loss: 2.5842 - val_acc: 0.4379\n",
      "Epoch 10/20\n",
      "467/467 [==============================] - 1s - loss: 1.5965 - acc: 0.6442 - val_loss: 2.3925 - val_acc: 0.4790\n",
      "Epoch 11/20\n",
      "467/467 [==============================] - 1s - loss: 1.4724 - acc: 0.6717 - val_loss: 2.1831 - val_acc: 0.5464\n",
      "Epoch 12/20\n",
      "467/467 [==============================] - 1s - loss: 1.3645 - acc: 0.6890 - val_loss: 2.0411 - val_acc: 0.5623\n",
      "Epoch 13/20\n",
      "467/467 [==============================] - 1s - loss: 1.2665 - acc: 0.7091 - val_loss: 1.8708 - val_acc: 0.5998\n",
      "Epoch 14/20\n",
      "467/467 [==============================] - 1s - loss: 1.1809 - acc: 0.7281 - val_loss: 1.7452 - val_acc: 0.6150\n",
      "Epoch 15/20\n",
      "467/467 [==============================] - 1s - loss: 1.1107 - acc: 0.7367 - val_loss: 1.6599 - val_acc: 0.6252\n",
      "Epoch 16/20\n",
      "467/467 [==============================] - 1s - loss: 1.0546 - acc: 0.7457 - val_loss: 1.5669 - val_acc: 0.6513\n",
      "Epoch 17/20\n",
      "467/467 [==============================] - 1s - loss: 1.0053 - acc: 0.7559 - val_loss: 1.5077 - val_acc: 0.6698\n",
      "Epoch 18/20\n",
      "467/467 [==============================] - 1s - loss: 0.9569 - acc: 0.7690 - val_loss: 1.4290 - val_acc: 0.6918\n",
      "Epoch 19/20\n",
      "467/467 [==============================] - ETA: 0s - loss: 0.9215 - acc: 0.773 - 1s - loss: 0.9181 - acc: 0.7743 - val_loss: 1.3970 - val_acc: 0.6858\n",
      "Epoch 20/20\n",
      "467/467 [==============================] - 1s - loss: 0.8824 - acc: 0.7823 - val_loss: 1.3499 - val_acc: 0.7062\n"
     ]
    },
    {
     "data": {
      "text/plain": [
       "<keras.callbacks.History at 0x12cf37e48>"
      ]
     },
     "execution_count": 4,
     "metadata": {},
     "output_type": "execute_result"
    }
   ],
   "source": [
    "# train skill2skill\n",
    "skill2skill_model.fit(skill_array[:, 0:-1], \n",
    "                      skill_array[:, 1:],\n",
    "                      epochs=20, \n",
    "                      batch_size=32, \n",
    "                      shuffle=True,\n",
    "                      validation_split=0.2)"
   ]
  },
  {
   "cell_type": "code",
   "execution_count": null,
   "metadata": {},
   "outputs": [],
   "source": [
    "dkt_model.fit([skill_response_array[:, 0:-1], skill_array[:, 1:]],\n",
    "              response_array[:, 1:, np.newaxis],\n",
    "              epochs=20, \n",
    "              batch_size=32, \n",
    "              shuffle=True,\n",
    "              validation_split=0.2)"
   ]
  },
  {
   "cell_type": "code",
   "execution_count": null,
   "metadata": {
    "collapsed": true
   },
   "outputs": [],
   "source": []
  }
 ],
 "metadata": {
  "kernelspec": {
   "display_name": "Python 3",
   "language": "python",
   "name": "python3"
  },
  "language_info": {
   "codemirror_mode": {
    "name": "ipython",
    "version": 3
   },
   "file_extension": ".py",
   "mimetype": "text/x-python",
   "name": "python",
   "nbconvert_exporter": "python",
   "pygments_lexer": "ipython3",
   "version": "3.6.1"
  }
 },
 "nbformat": 4,
 "nbformat_minor": 2
}
